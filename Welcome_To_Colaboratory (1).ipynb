{
  "cells": [
    {
      "cell_type": "code",
      "source": [
        "#Hyundai Motor Company Stock Historical Price data set----https://www.kaggle.com/datasets/caesarmario/hyundai-motor-company-stock-historical-price"
      ],
      "metadata": {
        "id": "qNpEwXG0TrqI"
      },
      "execution_count": null,
      "outputs": []
    },
    {
      "cell_type": "code",
      "source": [
        "import numpy as np\n",
        "import pandas as pd\n",
        "from sklearn.preprocessing import MinMaxScaler\n",
        "from keras.models import Sequential\n",
        "from keras.layers import LSTM, Dense\n",
        "\n",
        "# Load the dataset\n",
        "data = pd.read_csv('/content/stock price.csv')\n",
        "print(data)\n",
        "\n"
      ],
      "metadata": {
        "id": "0BMoCtodRXkk",
        "outputId": "0073b29d-751a-42c9-8957-ddedddc47d22",
        "colab": {
          "base_uri": "https://localhost:8080/"
        }
      },
      "execution_count": 3,
      "outputs": [
        {
          "output_type": "stream",
          "name": "stdout",
          "text": [
            "           Date    Open    High     Low   Close    Adj Close   Volume\n",
            "0    31-12-2015  149000  149000  137500  137500  112315.6406  2331421\n",
            "1    07-01-2016  134500  143500  133500  141000  115174.5938  2821121\n",
            "2    14-01-2016  141000  142000  135500  137000  111907.2266  2302378\n",
            "3    21-01-2016  138000  140500  134500  135000  110273.5391  2843030\n",
            "4    28-01-2016  135000  136000  126500  132500  108231.4453  3524339\n",
            "..          ...     ...     ...     ...     ...          ...      ...\n",
            "381  20-04-2023  191100  207500  188300  202000  202000.0000  6164238\n",
            "382  27-04-2023  203000  203500  196200  199200  199200.0000  2564204\n",
            "383  04-05-2023  201000  211500  199900  208000  208000.0000  3690515\n",
            "384  11-05-2023  207000  209500  201000  202500  202500.0000  2008266\n",
            "385  17-05-2023  202500  205500  202500  204500  204500.0000   590021\n",
            "\n",
            "[386 rows x 7 columns]\n"
          ]
        }
      ]
    },
    {
      "cell_type": "code",
      "source": [
        "# Extract the 'Close' prices\n",
        "prices = data['Close'].values.reshape(-1, 1)\n",
        "\n"
      ],
      "metadata": {
        "id": "OIn9-bKJRelK"
      },
      "execution_count": 4,
      "outputs": []
    },
    {
      "cell_type": "code",
      "source": [
        "# Normalize the data\n",
        "scaler = MinMaxScaler(feature_range=(0, 1))\n",
        "scaled_prices = scaler.fit_transform(prices)\n",
        "\n"
      ],
      "metadata": {
        "id": "Wvj8s3crRemT"
      },
      "execution_count": 5,
      "outputs": []
    },
    {
      "cell_type": "code",
      "source": [
        "# Split the data into training and testing sets\n",
        "train_size = int(len(scaled_prices) * 0.8)\n",
        "train_data = scaled_prices[:train_size]\n",
        "test_data = scaled_prices[train_size:]\n",
        "\n"
      ],
      "metadata": {
        "id": "fs9WvWCaRepv"
      },
      "execution_count": 6,
      "outputs": []
    },
    {
      "cell_type": "code",
      "source": [
        "# Create sequences for training\n",
        "def create_sequences(data, sequence_length):\n",
        "    X = []\n",
        "    y = []\n",
        "    for i in range(len(data) - sequence_length):\n",
        "        X.append(data[i:i+sequence_length])\n",
        "        y.append(data[i+sequence_length])\n",
        "    return np.array(X), np.array(y)\n",
        "\n",
        "sequence_length = 20  # Length of the input sequences\n",
        "X_train, y_train = create_sequences(train_data, sequence_length)\n",
        "X_test, y_test = create_sequences(test_data, sequence_length)\n",
        "\n"
      ],
      "metadata": {
        "id": "-jsVf3oKReq8"
      },
      "execution_count": 7,
      "outputs": []
    },
    {
      "cell_type": "code",
      "source": [
        "# Build the LSTM model\n",
        "model = Sequential()\n",
        "model.add(LSTM(units=50, return_sequences=True, input_shape=(sequence_length, 1)))\n",
        "model.add(LSTM(units=50))\n",
        "model.add(Dense(units=1))\n",
        "\n"
      ],
      "metadata": {
        "id": "G36u8IaQRXop"
      },
      "execution_count": 8,
      "outputs": []
    },
    {
      "cell_type": "code",
      "source": [
        "# Compile the model\n",
        "model.compile(optimizer='adam', loss='mean_squared_error')\n",
        "\n"
      ],
      "metadata": {
        "id": "gOIGy69gRXqq"
      },
      "execution_count": 9,
      "outputs": []
    },
    {
      "cell_type": "code",
      "source": [
        "# Train the model\n",
        "model.fit(X_train, y_train, epochs=10, batch_size=32)\n",
        "\n"
      ],
      "metadata": {
        "id": "KU1scWRHRXr6",
        "outputId": "7fee9a90-2938-487c-efa2-0d2699e36693",
        "colab": {
          "base_uri": "https://localhost:8080/"
        }
      },
      "execution_count": 10,
      "outputs": [
        {
          "output_type": "stream",
          "name": "stdout",
          "text": [
            "Epoch 1/10\n",
            "9/9 [==============================] - 5s 19ms/step - loss: 0.0656\n",
            "Epoch 2/10\n",
            "9/9 [==============================] - 0s 20ms/step - loss: 0.0216\n",
            "Epoch 3/10\n",
            "9/9 [==============================] - 0s 20ms/step - loss: 0.0141\n",
            "Epoch 4/10\n",
            "9/9 [==============================] - 0s 18ms/step - loss: 0.0097\n",
            "Epoch 5/10\n",
            "9/9 [==============================] - 0s 18ms/step - loss: 0.0081\n",
            "Epoch 6/10\n",
            "9/9 [==============================] - 0s 20ms/step - loss: 0.0073\n",
            "Epoch 7/10\n",
            "9/9 [==============================] - 0s 18ms/step - loss: 0.0068\n",
            "Epoch 8/10\n",
            "9/9 [==============================] - 0s 19ms/step - loss: 0.0066\n",
            "Epoch 9/10\n",
            "9/9 [==============================] - 0s 19ms/step - loss: 0.0065\n",
            "Epoch 10/10\n",
            "9/9 [==============================] - 0s 19ms/step - loss: 0.0063\n"
          ]
        },
        {
          "output_type": "execute_result",
          "data": {
            "text/plain": [
              "<keras.callbacks.History at 0x7f3764165cc0>"
            ]
          },
          "metadata": {},
          "execution_count": 10
        }
      ]
    },
    {
      "cell_type": "code",
      "source": [
        "# Make predictions\n",
        "predicted_prices = model.predict(X_test)\n",
        "\n"
      ],
      "metadata": {
        "id": "E2wfGCNqRXwK",
        "outputId": "37887615-b5c8-4f9e-a53e-48a7fa6a757f",
        "colab": {
          "base_uri": "https://localhost:8080/"
        }
      },
      "execution_count": 11,
      "outputs": [
        {
          "output_type": "stream",
          "name": "stdout",
          "text": [
            "2/2 [==============================] - 1s 11ms/step\n"
          ]
        }
      ]
    },
    {
      "cell_type": "code",
      "source": [
        "# Inverse transform the predicted prices\n",
        "predicted_prices = scaler.inverse_transform(predicted_prices)\n",
        "\n"
      ],
      "metadata": {
        "id": "sJsg4zTJRXx2"
      },
      "execution_count": 12,
      "outputs": []
    },
    {
      "cell_type": "code",
      "source": [
        "# Print the predicted prices\n",
        "print(predicted_prices)"
      ],
      "metadata": {
        "id": "0PAG6mzHSRZi",
        "outputId": "b2a7ee24-e82b-44e3-cc95-9fb9dd07759f",
        "colab": {
          "base_uri": "https://localhost:8080/"
        }
      },
      "execution_count": 13,
      "outputs": [
        {
          "output_type": "stream",
          "name": "stdout",
          "text": [
            "[[181964.62]\n",
            " [181009.75]\n",
            " [180626.8 ]\n",
            " [180451.12]\n",
            " [180295.19]\n",
            " [180210.47]\n",
            " [180215.44]\n",
            " [180482.27]\n",
            " [180748.17]\n",
            " [180683.67]\n",
            " [180175.92]\n",
            " [179852.19]\n",
            " [179424.03]\n",
            " [179314.62]\n",
            " [179589.34]\n",
            " [180459.22]\n",
            " [181724.94]\n",
            " [182954.3 ]\n",
            " [183863.2 ]\n",
            " [184799.89]\n",
            " [185853.52]\n",
            " [187075.38]\n",
            " [188275.23]\n",
            " [189299.86]\n",
            " [189676.48]\n",
            " [189419.62]\n",
            " [188191.2 ]\n",
            " [186504.27]\n",
            " [184378.44]\n",
            " [182088.33]\n",
            " [180046.4 ]\n",
            " [178194.7 ]\n",
            " [176552.56]\n",
            " [175188.69]\n",
            " [173681.39]\n",
            " [172131.02]\n",
            " [170497.89]\n",
            " [168605.  ]\n",
            " [166967.95]\n",
            " [165783.31]\n",
            " [164862.86]\n",
            " [164591.56]\n",
            " [164603.69]\n",
            " [164931.92]\n",
            " [165788.9 ]\n",
            " [166793.11]\n",
            " [168024.75]\n",
            " [169154.58]\n",
            " [170149.03]\n",
            " [171230.38]\n",
            " [172299.27]\n",
            " [173517.17]\n",
            " [175364.11]\n",
            " [177264.12]\n",
            " [179599.06]\n",
            " [181965.  ]\n",
            " [184633.22]\n",
            " [187217.48]]\n"
          ]
        }
      ]
    }
  ],
  "metadata": {
    "colab": {
      "name": "Welcome To Colaboratory",
      "provenance": []
    },
    "kernelspec": {
      "display_name": "Python 3",
      "name": "python3"
    }
  },
  "nbformat": 4,
  "nbformat_minor": 0
}